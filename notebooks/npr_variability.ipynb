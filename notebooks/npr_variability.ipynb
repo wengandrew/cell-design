{
 "cells": [
  {
   "cell_type": "markdown",
   "metadata": {},
   "source": [
    "# NPR Variability\n",
    "\n",
    "This notebook explore the effect of electrode loading variability on the negative-to-positive ratio."
   ]
  },
  {
   "cell_type": "code",
   "execution_count": 1,
   "metadata": {},
   "outputs": [],
   "source": [
    "import matplotlib.pyplot as plt\n",
    "import numpy as np"
   ]
  },
  {
   "cell_type": "code",
   "execution_count": 2,
   "metadata": {},
   "outputs": [],
   "source": [
    "# Set random seed so that Monte Carlo results are reproducible\n",
    "np.random.seed(42)"
   ]
  },
  {
   "cell_type": "markdown",
   "metadata": {},
   "source": [
    "# Initialize parameters"
   ]
  },
  {
   "cell_type": "code",
   "execution_count": 3,
   "metadata": {},
   "outputs": [],
   "source": [
    "# Initialize constants\n",
    "NEG_LOADING_MEAN    = 14.85 # [mg/cm^2], from Chen2020 (LGM50)\n",
    "POS_LOADING_MEAN    = 24.69 # [mg/cm^2], from Chen2020 (LGM50)\n",
    "NEG_QSP             = 372   # [mAh/g]\n",
    "POS_QSP             = 224   # [mAh/g]\n",
    "\n",
    "NEG_LOADING_CV      = 0.02  # (mean/stdev) [%/100]\n",
    "POS_LOADING_CV      = 0.03  # (mean/stdev) [%/100]\n",
    "\n",
    "neg_loading_std     = NEG_LOADING_MEAN * NEG_LOADING_CV # [mg/cm^2]\n",
    "pos_loading_std     = POS_LOADING_MEAN * POS_LOADING_CV # [mg/cm^2]"
   ]
  },
  {
   "cell_type": "markdown",
   "metadata": {},
   "source": [
    "## Monte Carlo sampling"
   ]
  },
  {
   "cell_type": "code",
   "execution_count": 4,
   "metadata": {},
   "outputs": [],
   "source": [
    "# Monte carlo sampling\n",
    "N = 10000\n",
    "neg_loading = np.random.normal(NEG_LOADING_MEAN, neg_loading_std, N)\n",
    "pos_loading = np.random.normal(POS_LOADING_MEAN, pos_loading_std, N)\n",
    "neg_areal_capacity = neg_loading * NEG_QSP / 1000\n",
    "pos_areal_capacity = pos_loading * POS_QSP / 1000"
   ]
  },
  {
   "cell_type": "markdown",
   "metadata": {},
   "source": [
    "## Plot the base case"
   ]
  },
  {
   "cell_type": "code",
   "execution_count": null,
   "metadata": {},
   "outputs": [],
   "source": [
    "# Plot the result\n",
    "xrange = [np.min(pos_areal_capacity), np.max(pos_areal_capacity)]\n",
    "cap_x_vec = np.linspace(xrange[0], xrange[1], 100)\n",
    "\n",
    "npr_list = [0.95, 1.0, 1.05]\n",
    "cap_vec_list = []\n",
    "\n",
    "npr_actual = neg_areal_capacity / pos_areal_capacity\n",
    "percent_more = (npr_actual < 1).sum() / len(npr_actual) * 100\n",
    "\n",
    "for npr in npr_list:\n",
    "    cap_y_vec = cap_x_vec * npr\n",
    "    npr_actual = neg_areal_capacity / pos_areal_capacity\n",
    "    cap_vec_list.append(cap_y_vec)\n",
    "\n",
    "plt.figure(figsize=(5,5))\n",
    "plt.plot(pos_areal_capacity, neg_areal_capacity,\n",
    "         marker='o', ms=1, ls='', c='k', alpha=0.5);\n",
    "\n",
    "for npr, cap_y_vec in zip(npr_list, cap_vec_list):\n",
    "    plt.plot(cap_x_vec, cap_y_vec, c=(0.4, 0.4, 0.4), label=f\"NPR = {npr}\")\n",
    "    plt.annotate(f\"NPR = {npr:.2f}\", xy=(cap_x_vec[-1], cap_y_vec[-1]),\n",
    "                 xytext=(10, 0), textcoords='offset points', va='center', c=(0.4,0.4,0.4),\n",
    "                 bbox=dict(facecolor='white', edgecolor='none', alpha=0.7))\n",
    "\n",
    "plt.ylabel(\"Negative areal capacity [mAh/cm$^2$]\");\n",
    "plt.xlabel(\"Positive areal capacity [mAh/cm$^2$]\");\n",
    "plt.xlim(xrange[0], xrange[1]*1.075)\n",
    "plt.ylim(xrange[0], xrange[1]*1.111)\n",
    "plt.title(f\"{percent_more:.1f}% of cells have NPR < 1\")\n",
    "plt.grid(True)"
   ]
  },
  {
   "cell_type": "markdown",
   "metadata": {},
   "source": [
    "## Explore the effect of increasing the anode loading target"
   ]
  },
  {
   "cell_type": "code",
   "execution_count": null,
   "metadata": {},
   "outputs": [],
   "source": [
    "# Explore the effect of increasing anode loading target\n",
    "ANODE_LOADING_INCREASE_FACTOR = 1.05\n",
    "\n",
    "# Explore the effect of different NPR targets on the percentage of cells that\n",
    "# will violate the NPR target\n",
    "xrange = [np.min(pos_areal_capacity), np.max(pos_areal_capacity)]\n",
    "cap_x_vec = np.linspace(xrange[0], xrange[1], 100)\n",
    "\n",
    "npr_actual = neg_areal_capacity*ANODE_LOADING_INCREASE_FACTOR / pos_areal_capacity\n",
    "percent_more = (npr_actual < 1).sum() / len(npr_actual) * 100\n",
    "\n",
    "npr_list = [0.95, 1.0, 1.05]\n",
    "cap_vec_list = []\n",
    "for npr in npr_list:\n",
    "    cap_y_vec = cap_x_vec * npr\n",
    "    cap_vec_list.append(cap_y_vec)\n",
    "\n",
    "plt.figure(figsize=(5,5))\n",
    "plt.plot(pos_areal_capacity, neg_areal_capacity,\n",
    "         marker='o', ms=1, ls='', c='k', alpha=0.5);\n",
    "plt.plot(pos_areal_capacity, neg_areal_capacity*ANODE_LOADING_INCREASE_FACTOR,\n",
    "         marker='o', ms=1, ls='', c='r', alpha=0.5);\n",
    "\n",
    "for npr, cap_y_vec in zip(npr_list, cap_vec_list):\n",
    "    plt.plot(cap_x_vec, cap_y_vec, c=(0.4,0.4,0.4), label=f\"NPR = {npr}\")\n",
    "    plt.annotate(f\"NPR = {npr:.2f}\", xy=(cap_x_vec[-1], cap_y_vec[-1]),\n",
    "                 xytext=(10, 0), textcoords='offset points', va='center', c=(0.4,0.4,0.4),\n",
    "                 bbox=dict(facecolor='white', edgecolor='none', alpha=0.7))\n",
    "\n",
    "plt.ylabel(\"Negative areal capacity [mAh/cm$^2$]\");\n",
    "plt.xlabel(\"Positive areal capacity [mAh/cm$^2$]\");\n",
    "plt.xlim(xrange[0], xrange[1]*1.075)\n",
    "plt.ylim(xrange[0], xrange[1]*1.06)\n",
    "plt.title(f\"{percent_more:.1f}% of cells have NPR < 1\")\n",
    "plt.grid(True)"
   ]
  },
  {
   "cell_type": "markdown",
   "metadata": {},
   "source": [
    "## Explore the effect of decreasing positive loading variability"
   ]
  },
  {
   "cell_type": "code",
   "execution_count": 7,
   "metadata": {},
   "outputs": [],
   "source": [
    "POS_LOADING_CV      = 0.015  # (mean/stdev) [%/100]\n",
    "pos_loading_std     = POS_LOADING_MEAN * POS_LOADING_CV # [mg/cm^2]\n",
    "\n",
    "N = 10000\n",
    "pos_loading = np.random.normal(POS_LOADING_MEAN, pos_loading_std, N)\n",
    "pos_areal_capacity_new = pos_loading * POS_QSP / 1000"
   ]
  },
  {
   "cell_type": "code",
   "execution_count": null,
   "metadata": {},
   "outputs": [],
   "source": [
    "# Explore the effect of decreasing positive loading CV\n",
    "\n",
    "# Explore the effect of different NPR targets on the percentage of cells that\n",
    "# will violate the NPR target\n",
    "xrange = [np.min(pos_areal_capacity_new), np.max(pos_areal_capacity)]\n",
    "cap_x_vec = np.linspace(xrange[0], xrange[1], 100)\n",
    "\n",
    "npr_actual = neg_areal_capacity*ANODE_LOADING_INCREASE_FACTOR / pos_areal_capacity_new\n",
    "percent_more = (npr_actual < 1).sum() / len(npr_actual) * 100\n",
    "\n",
    "npr_list = [0.95, 1.0, 1.05]\n",
    "cap_vec_list = []\n",
    "for npr in npr_list:\n",
    "    cap_y_vec = cap_x_vec * npr\n",
    "    cap_vec_list.append(cap_y_vec)\n",
    "\n",
    "plt.figure(figsize=(5,5))\n",
    "plt.plot(pos_areal_capacity, neg_areal_capacity,\n",
    "         marker='o', ms=1, ls='', c='k', alpha=0.5);\n",
    "plt.plot(pos_areal_capacity_new, neg_areal_capacity*ANODE_LOADING_INCREASE_FACTOR,\n",
    "         marker='o', ms=1, ls='', c='b', alpha=0.5);\n",
    "\n",
    "for npr, cap_y_vec in zip(npr_list, cap_vec_list):\n",
    "    plt.plot(cap_x_vec, cap_y_vec, c=(0.4,0.4,0.4), label=f\"NPR = {npr}\")\n",
    "    plt.annotate(f\"NPR = {npr:.2f}\", xy=(cap_x_vec[-1], cap_y_vec[-1]),\n",
    "                 xytext=(10, 0), textcoords='offset points', va='center', c=(0.4,0.4,0.4),\n",
    "                 bbox=dict(facecolor='white', edgecolor='none', alpha=0.7))\n",
    "\n",
    "plt.ylabel(\"Negative areal capacity [mAh/cm$^2$]\");\n",
    "plt.xlabel(\"Positive areal capacity [mAh/cm$^2$]\");\n",
    "plt.xlim(xrange[0], xrange[1]*1.075)\n",
    "plt.ylim(xrange[0], xrange[1]*1.06)\n",
    "plt.title(f\"{percent_more:.1f}% of cells have NPR < 1\")\n",
    "plt.grid(True)"
   ]
  }
 ],
 "metadata": {
  "kernelspec": {
   "display_name": ".venv",
   "language": "python",
   "name": "python3"
  },
  "language_info": {
   "codemirror_mode": {
    "name": "ipython",
    "version": 3
   },
   "file_extension": ".py",
   "mimetype": "text/x-python",
   "name": "python",
   "nbconvert_exporter": "python",
   "pygments_lexer": "ipython3",
   "version": "3.12.8"
  }
 },
 "nbformat": 4,
 "nbformat_minor": 2
}
