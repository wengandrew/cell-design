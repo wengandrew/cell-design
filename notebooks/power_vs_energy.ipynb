{
 "cells": [
  {
   "cell_type": "markdown",
   "metadata": {},
   "source": [
    "# Energy vs Power cell example\n",
    "\n",
    "This notebook shows how to use PyBaMM to simulate an energy cell vs a power cell by changing the thickness of the electrodes. This example requires the IDAKLUSolver, so make sure you use PyBaMM 25.1 so that it is available on whatever platform you are using."
   ]
  },
  {
   "cell_type": "code",
   "execution_count": null,
   "metadata": {},
   "outputs": [],
   "source": [
    "%pip install pybamm\n",
    "\n",
    "import matplotlib.pyplot as plt\n",
    "import numpy as np\n",
    "import pybamm"
   ]
  },
  {
   "cell_type": "markdown",
   "metadata": {},
   "source": [
    "## Simple simulation"
   ]
  },
  {
   "cell_type": "markdown",
   "metadata": {},
   "source": [
    "Let's set up a simple simulation. The arguments into the simulation are the model, which we will use the standard DFN for; the parameter set, which we will use the \"Chen2020\" parameter set; the experiment, i.e., a current or power profile; and the numerical solver."
   ]
  },
  {
   "cell_type": "code",
   "execution_count": 2,
   "metadata": {},
   "outputs": [],
   "source": [
    "model = pybamm.lithium_ion.DFN()\n",
    "\n",
    "parameter_values = pybamm.ParameterValues(\"Chen2020\")\n",
    "\n",
    "experiment = pybamm.Experiment(\n",
    "    [\"Discharge at 1C until 2.5V\"]\n",
    "    )\n",
    "\n",
    "solver = pybamm.IDAKLUSolver()\n",
    "\n",
    "sim = pybamm.Simulation(model=model,\n",
    "                        parameter_values=parameter_values,\n",
    "                        experiment=experiment,\n",
    "                        solver=solver)\n",
    "\n",
    "sol = sim.solve(initial_soc=1)"
   ]
  },
  {
   "cell_type": "markdown",
   "metadata": {},
   "source": [
    "When the simulation completes, let's look at the voltage response and calculate the cell energy and mean power."
   ]
  },
  {
   "cell_type": "code",
   "execution_count": null,
   "metadata": {},
   "outputs": [],
   "source": [
    "time = sol[\"Time [s]\"].data\n",
    "power = sol[\"Power [W]\"].data\n",
    "voltage = sol[\"Voltage [V]\"].data\n",
    "energy = np.cumsum(power * np.diff(np.append(0, time))) / 3600\n",
    "\n",
    "fig, ax = plt.subplots()\n",
    "ax.plot(time, voltage)\n",
    "ax.set_xlabel(\"Time [s]\")\n",
    "ax.set_ylabel(\"Voltage [V]\")\n",
    "\n",
    "print(f\"Mean power: {np.mean(power):.2f} W\")\n",
    "print(f\"Discharge energy: {energy[-1]:.2f} Wh\")"
   ]
  },
  {
   "cell_type": "markdown",
   "metadata": {},
   "source": [
    "## Sweeping C-rate"
   ]
  },
  {
   "cell_type": "markdown",
   "metadata": {},
   "source": [
    "By sweeping the C-rate, we can see how the power and energy change (higher C-rate means higher power and lower energy)."
   ]
  },
  {
   "cell_type": "code",
   "execution_count": 4,
   "metadata": {},
   "outputs": [],
   "source": [
    "C_rates = [0.1, 0.2, 0.5, 0.75, 1, 1.5, 2, 2.25, 2.5, 3, 3.5, 4, 5, 7.5, 10]\n",
    "\n",
    "def sweep_c_rate(C_rates, parameter_values):\n",
    "    \"\"\"\n",
    "    Simulates battery discharge at different C-rates and collects performance metrics.\n",
    "\n",
    "    Parameters\n",
    "    ----------\n",
    "    C_rates : array-like\n",
    "        List or array of C-rates to simulate discharge at\n",
    "    parameter_values : pybamm.ParameterValues\n",
    "        Battery model parameters\n",
    "\n",
    "    Returns\n",
    "    -------\n",
    "    dict\n",
    "        Dictionary containing simulation results with keys:\n",
    "        - 'C-rate': Input C-rates\n",
    "        - 'Energy [Wh]': Energy profiles over time for each C-rate\n",
    "        - 'Discharge Energy [Wh]': Total discharge energy for each C-rate\n",
    "        - 'Time [s]': Time points for each simulation\n",
    "        - 'Voltage [V]': Voltage profiles over time for each C-rate\n",
    "        - 'Mean Power [W]': Average power for each C-rate\n",
    "\n",
    "    Notes\n",
    "    -----\n",
    "    Uses PyBaMM to simulate battery discharge from full charge (SOC=1)\n",
    "    until reaching cutoff voltage of 2.5V at specified C-rates.\n",
    "    Energy is calculated by integrating power over time.\n",
    "    \"\"\"\n",
    "\n",
    "    outputs = {\n",
    "            \"C-rate\": C_rates,\n",
    "            \"Energy [Wh]\": [],\n",
    "            \"Discharge Energy [Wh]\": [],\n",
    "            \"Time [s]\": [],\n",
    "            \"Voltage [V]\": [],\n",
    "            \"Mean Power [W]\": []\n",
    "            }\n",
    "\n",
    "    for C_rate in C_rates:\n",
    "\n",
    "        experiment = pybamm.Experiment(\n",
    "            [f\"Discharge at {C_rate}C until 2.5V\"]\n",
    "            )\n",
    "\n",
    "        sim = pybamm.Simulation(model,\n",
    "                                parameter_values=parameter_values,\n",
    "                                experiment=experiment,\n",
    "                                solver=solver\n",
    "                                )\n",
    "\n",
    "        sol = sim.solve(initial_soc=1)\n",
    "\n",
    "        time = sol[\"Time [s]\"].data\n",
    "        power = sol[\"Power [W]\"].data\n",
    "        voltage = sol[\"Voltage [V]\"].data\n",
    "\n",
    "        energy = np.cumsum(power * np.diff(np.append(0, time))) / 3600\n",
    "        discharge_energy = energy[-1]\n",
    "\n",
    "        outputs[\"Voltage [V]\"].append(voltage)\n",
    "        outputs[\"Time [s]\"].append(time)\n",
    "        outputs[\"Energy [Wh]\"].append(energy)\n",
    "        outputs[\"Discharge Energy [Wh]\"].append(discharge_energy)\n",
    "        outputs[\"Mean Power [W]\"].append(np.mean(power))\n",
    "\n",
    "    return outputs\n",
    "\n",
    "outputs_energy_cell = sweep_c_rate(C_rates, parameter_values)"
   ]
  },
  {
   "cell_type": "code",
   "execution_count": null,
   "metadata": {},
   "outputs": [],
   "source": [
    "def plot_power_vs_energy(outputs):\n",
    "    \"\"\"\n",
    "    Plot power and energy outputs versus C-rate with dual y-axes.\n",
    "    This function creates a dual y-axis plot showing the relationship between:\n",
    "    1. Discharge energy (left y-axis, red)\n",
    "    2. Mean power (right y-axis, blue)\n",
    "    versus C-rate (x-axis)\n",
    "\n",
    "    Parameters\n",
    "    ----------\n",
    "    outputs : dict\n",
    "        Dictionary containing the following keys:\n",
    "        - \"C-rate\": array-like, C-rates for x-axis\n",
    "        - \"Discharge Energy [Wh]\": array-like, energy values in Watt-hours\n",
    "        - \"Mean Power [W]\": array-like, power values in Watts\n",
    "\n",
    "    Returns\n",
    "    -------\n",
    "    tuple\n",
    "        (fig, ax) where:\n",
    "        - fig : matplotlib.figure.Figure\n",
    "            The created figure object\n",
    "        - ax : matplotlib.axes.Axes\n",
    "            The primary axes object (energy axis)\n",
    "\n",
    "    \"\"\"\n",
    "\n",
    "    fig, ax = plt.subplots()\n",
    "    ax2 = ax.twinx()\n",
    "    ax.set_xlabel(\"C-rate\")\n",
    "\n",
    "    ax.plot(outputs[\"C-rate\"], outputs[\"Discharge Energy [Wh]\"], \"-o\", color=\"tab:red\")\n",
    "    ax.set_ylabel(\"Energy [Wh]\", color=\"tab:red\")\n",
    "    ax.tick_params(axis=\"y\", labelcolor=\"tab:red\")\n",
    "    ax.set_ylim(0, outputs[\"Discharge Energy [Wh]\"][0] * 1.1)\n",
    "\n",
    "    # add a twin axis for time on a log scale\n",
    "    ax2.plot(outputs[\"C-rate\"], outputs[\"Mean Power [W]\"], \"-o\", color=\"tab:blue\")\n",
    "    ax2.tick_params(axis=\"y\", labelcolor=\"tab:blue\")\n",
    "    ax2.set_ylabel(\"Mean Power [W]\", color=\"tab:blue\")\n",
    "    ax2.set_xlim(0, outputs[\"C-rate\"][-1])\n",
    "    ax2.set_ylim(0, outputs[\"Mean Power [W]\"][-1] * 1.1)\n",
    "\n",
    "    ax.grid(alpha=0.5)\n",
    "\n",
    "    return fig, ax\n",
    "\n",
    "fig, ax = plot_power_vs_energy(outputs_energy_cell)\n",
    "fig.suptitle(\"Energy cell\")\n"
   ]
  },
  {
   "cell_type": "code",
   "execution_count": null,
   "metadata": {},
   "outputs": [],
   "source": [
    "def plot_voltage_vs_energy(outputs):\n",
    "    \"\"\"\n",
    "    Plot voltage vs energy curves from battery data.\n",
    "\n",
    "    Args:\n",
    "        outputs (dict): Dictionary containing voltage and energy data with keys:\n",
    "            - \"Voltage [V]\": List/array of voltage values\n",
    "            - \"Energy [Wh]\": List/array of energy values\n",
    "\n",
    "    Returns:\n",
    "        tuple: Contains:\n",
    "            - fig (matplotlib.figure.Figure): The generated figure object\n",
    "            - ax (matplotlib.axes.Axes): The axes object containing the plot\n",
    "\n",
    "    \"\"\"\n",
    "\n",
    "\n",
    "    fig, ax = plt.subplots()\n",
    "\n",
    "    for voltage, energy in zip(outputs[\"Voltage [V]\"], outputs[\"Energy [Wh]\"]):\n",
    "        ax.plot(energy, voltage)\n",
    "    ax.set_xlabel(\"Energy [Wh]\")\n",
    "    ax.set_ylabel(\"Voltage [V]\")\n",
    "\n",
    "    ax.grid(alpha=0.5)\n",
    "\n",
    "    return fig, ax\n",
    "\n",
    "fig, ax = plot_voltage_vs_energy(outputs_energy_cell)\n",
    "fig.suptitle(\"Energy cell\")\n"
   ]
  },
  {
   "cell_type": "markdown",
   "metadata": {},
   "source": [
    "This is an energy cell with a maximum C-rate of 2C, so the energy drops off significantly as the C-rate increases above 2C"
   ]
  },
  {
   "cell_type": "markdown",
   "metadata": {},
   "source": [
    "## Changing electrode thickness\n",
    "\n",
    "We can also sweep the electrode thickness to see how the power and energy change. We will change the thickness of the positive electrode and the negative electrode proportionally to avoid having to change the N/P ratio and electrode balance."
   ]
  },
  {
   "cell_type": "code",
   "execution_count": null,
   "metadata": {},
   "outputs": [],
   "source": [
    "parameter_values_power_cell = pybamm.ParameterValues(\"Chen2020\")\n",
    "parameter_values_power_cell[\"Negative electrode thickness [m]\"] *= 1/2\n",
    "parameter_values_power_cell[\"Positive electrode thickness [m]\"] *= 1/2\n",
    "parameter_values_power_cell[\"Electrode height [m]\"] *= 2\n",
    "\n",
    "outputs_power_cell = sweep_c_rate(C_rates, parameter_values_power_cell)\n",
    "fig, ax = plot_power_vs_energy(outputs_power_cell)\n",
    "fig.suptitle(\"Power cell\")\n"
   ]
  },
  {
   "cell_type": "markdown",
   "metadata": {},
   "source": [
    "The power cell maintains its capacity better at higher C-rates. The downside of the power cell is that it has a lower specific energy since the ratio of active material to inactive material (current collector, separator, etc.) is higher. PyBaMM does not provide a specific energy / specific power, so you would need to define your own function for how cell mass depends on parameters to get specific energy and specific power."
   ]
  },
  {
   "cell_type": "code",
   "execution_count": null,
   "metadata": {},
   "outputs": [],
   "source": [
    "fig, ax = plt.subplots()\n",
    "ax2 = ax.twinx()\n",
    "ax.set_xlabel(\"C-rate\")\n",
    "\n",
    "styles = [\"-o\", \"-x\"]\n",
    "\n",
    "for outputs, style in zip([outputs_energy_cell, outputs_power_cell], styles):\n",
    "\n",
    "    ax.plot(outputs[\"C-rate\"], outputs[\"Discharge Energy [Wh]\"], style, color=\"tab:red\")\n",
    "    ax.set_ylabel(\"Energy [Wh]\", color=\"tab:red\")\n",
    "    ax.tick_params(axis=\"y\", labelcolor=\"tab:red\")\n",
    "\n",
    "    ax2.plot(outputs[\"C-rate\"], outputs[\"Mean Power [W]\"], style, color=\"tab:blue\")\n",
    "    ax2.tick_params(axis=\"y\", labelcolor=\"tab:blue\")\n",
    "    ax2.set_ylabel(\"Mean Power [W]\", color=\"tab:blue\")\n",
    "    ax2.set_xlim(0, outputs[\"C-rate\"][-1])\n",
    "\n",
    "ax.grid(alpha=0.5)\n",
    "\n",
    "fig.suptitle(\"Energy cell (o) vs Power cell (x)\");\n"
   ]
  }
 ],
 "metadata": {
  "kernelspec": {
   "display_name": ".venv",
   "language": "python",
   "name": "python3"
  },
  "language_info": {
   "codemirror_mode": {
    "name": "ipython",
    "version": 3
   },
   "file_extension": ".py",
   "mimetype": "text/x-python",
   "name": "python",
   "nbconvert_exporter": "python",
   "pygments_lexer": "ipython3",
   "version": "3.12.8"
  }
 },
 "nbformat": 4,
 "nbformat_minor": 2
}
